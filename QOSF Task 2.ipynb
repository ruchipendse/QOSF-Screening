{
 "cells": [
  {
   "cell_type": "code",
   "execution_count": 24,
   "metadata": {},
   "outputs": [],
   "source": [
    "# creating the necessary imports\n",
    "\n",
    "import numpy as np\n",
    "from qiskit import *\n",
    "from qiskit.circuit import Parameter\n",
    "from math import radians"
   ]
  },
  {
   "cell_type": "code",
   "execution_count": 25,
   "metadata": {},
   "outputs": [
    {
     "data": {
      "text/html": [
       "<pre style=\"word-wrap: normal;white-space: pre;background: #fff0;line-height: 1.1;font-family: &quot;Courier New&quot;,Courier,monospace\">     ┌─────────────────┐ ░ ┌─────────────┐ ░       ░ ┌─┐   \n",
       "q_0: ┤ initialize(1,0) ├─░─┤ RY(p_theta) ├─░───■───░─┤M├───\n",
       "     ├─────────────────┤ ░ └─────────────┘ ░ ┌─┴─┐ ░ └╥┘┌─┐\n",
       "q_1: ┤ initialize(0,1) ├─░─────────────────░─┤ X ├─░──╫─┤M├\n",
       "     └─────────────────┘ ░                 ░ └───┘ ░  ║ └╥┘\n",
       "c_0: ═════════════════════════════════════════════════╩══╬═\n",
       "                                                         ║ \n",
       "c_1: ════════════════════════════════════════════════════╩═\n",
       "                                                           </pre>"
      ],
      "text/plain": [
       "     ┌─────────────────┐ ░ ┌─────────────┐ ░       ░ ┌─┐   \n",
       "q_0: ┤ initialize(1,0) ├─░─┤ RY(p_theta) ├─░───■───░─┤M├───\n",
       "     ├─────────────────┤ ░ └─────────────┘ ░ ┌─┴─┐ ░ └╥┘┌─┐\n",
       "q_1: ┤ initialize(0,1) ├─░─────────────────░─┤ X ├─░──╫─┤M├\n",
       "     └─────────────────┘ ░                 ░ └───┘ ░  ║ └╥┘\n",
       "c_0: ═════════════════════════════════════════════════╩══╬═\n",
       "                                                         ║ \n",
       "c_1: ════════════════════════════════════════════════════╩═\n",
       "                                                           "
      ]
     },
     "execution_count": 25,
     "metadata": {},
     "output_type": "execute_result"
    }
   ],
   "source": [
    "# Theta parameter - degree of rotation\n",
    "theta = Parameter('p_theta')\n",
    "# Initialize the quantum circuit with 2 qubits and 2 classical bits\n",
    "qc = QuantumCircuit(2, 2)\n",
    "\n",
    "q_1 = [1,0] # |0>\n",
    "q_2 = [0,1] # |1>\n",
    "qc.initialize(q_1, 0)\n",
    "qc.initialize(q_2, 1)\n",
    "qc.barrier() \n",
    "qc.ry(theta, 0) # rotate qubit 0 along y axis\n",
    "qc.barrier()\n",
    "qc.cx(0, 1) # CNOT on qubits \n",
    "qc.barrier()\n",
    "qc.measure(0, 0)\n",
    "qc.measure(1, 1)\n",
    "\n",
    "qc.draw()"
   ]
  },
  {
   "cell_type": "code",
   "execution_count": 26,
   "metadata": {},
   "outputs": [],
   "source": [
    "import logging\n",
    "from copy import deepcopy\n",
    "from numpy import pi, absolute, array, zeros\n",
    "from qiskit.aqua.utils.validation import validate_range_exclusive_max\n",
    "from qiskit.aqua.components.optimizers import AQGD"
   ]
  },
  {
   "cell_type": "code",
   "execution_count": 27,
   "metadata": {},
   "outputs": [],
   "source": [
    "def obj_function(shots):\n",
    "    \n",
    "    func = execute(qc, backend = Aer.get_backend('qasm_simulator'),shots = shots , parameter_binds=[{theta: rad}])\n",
    "    counts = job.result().get_counts()\n",
    "    return counts"
   ]
  },
  {
   "cell_type": "code",
   "execution_count": 28,
   "metadata": {},
   "outputs": [
    {
     "ename": "TypeError",
     "evalue": "optimize() missing 1 required positional argument: 'self'",
     "output_type": "error",
     "traceback": [
      "\u001b[0;31m---------------------------------------------------------------------------\u001b[0m",
      "\u001b[0;31mTypeError\u001b[0m                                 Traceback (most recent call last)",
      "\u001b[0;32m<ipython-input-28-0eb2fc1a0758>\u001b[0m in \u001b[0;36m<module>\u001b[0;34m\u001b[0m\n\u001b[0;32m----> 1\u001b[0;31m \u001b[0mresult\u001b[0m \u001b[0;34m=\u001b[0m \u001b[0mAQGD\u001b[0m\u001b[0;34m.\u001b[0m\u001b[0moptimize\u001b[0m\u001b[0;34m(\u001b[0m\u001b[0mnum_vars\u001b[0m\u001b[0;34m=\u001b[0m\u001b[0;36m1\u001b[0m\u001b[0;34m,\u001b[0m\u001b[0mobjective_function\u001b[0m \u001b[0;34m=\u001b[0m \u001b[0mobj_function\u001b[0m\u001b[0;34m,\u001b[0m \u001b[0mgradient_function\u001b[0m\u001b[0;34m=\u001b[0m\u001b[0;32mNone\u001b[0m\u001b[0;34m,\u001b[0m\u001b[0mvariable_bounds\u001b[0m\u001b[0;34m=\u001b[0m\u001b[0;32mNone\u001b[0m\u001b[0;34m,\u001b[0m\u001b[0minitial_point\u001b[0m\u001b[0;34m=\u001b[0m\u001b[0;32mNone\u001b[0m\u001b[0;34m)\u001b[0m\u001b[0;34m\u001b[0m\u001b[0;34m\u001b[0m\u001b[0m\n\u001b[0m\u001b[1;32m      2\u001b[0m \u001b[0mprint\u001b[0m\u001b[0;34m(\u001b[0m\u001b[0mresult\u001b[0m\u001b[0;34m)\u001b[0m\u001b[0;34m\u001b[0m\u001b[0;34m\u001b[0m\u001b[0m\n",
      "\u001b[0;31mTypeError\u001b[0m: optimize() missing 1 required positional argument: 'self'"
     ]
    }
   ],
   "source": [
    "result = AQGD.optimize(num_vars=1,objective_function = obj_function, gradient_function=None,variable_bounds=None,initial_point=None)\n",
    "print(result)"
   ]
  },
  {
   "cell_type": "code",
   "execution_count": 29,
   "metadata": {},
   "outputs": [
    {
     "ename": "TypeError",
     "evalue": "super(type, obj): obj must be an instance or subtype of type",
     "output_type": "error",
     "traceback": [
      "\u001b[0;31m---------------------------------------------------------------------------\u001b[0m",
      "\u001b[0;31mTypeError\u001b[0m                                 Traceback (most recent call last)",
      "\u001b[0;32m<ipython-input-29-127713b6273b>\u001b[0m in \u001b[0;36m<module>\u001b[0;34m\u001b[0m\n\u001b[0;32m----> 1\u001b[0;31m \u001b[0mresult\u001b[0m \u001b[0;34m=\u001b[0m \u001b[0mAQGD\u001b[0m\u001b[0;34m.\u001b[0m\u001b[0moptimize\u001b[0m\u001b[0;34m(\u001b[0m\u001b[0;36m1\u001b[0m\u001b[0;34m,\u001b[0m \u001b[0mobj_function\u001b[0m\u001b[0;34m,\u001b[0m \u001b[0;32mNone\u001b[0m\u001b[0;34m,\u001b[0m \u001b[0;32mNone\u001b[0m\u001b[0;34m,\u001b[0m \u001b[0;32mNone\u001b[0m\u001b[0;34m)\u001b[0m\u001b[0;34m\u001b[0m\u001b[0;34m\u001b[0m\u001b[0m\n\u001b[0m",
      "\u001b[0;32m~/anaconda3/lib/python3.7/site-packages/qiskit/aqua/components/optimizers/aqgd.py\u001b[0m in \u001b[0;36moptimize\u001b[0;34m(self, num_vars, objective_function, gradient_function, variable_bounds, initial_point)\u001b[0m\n\u001b[1;32m    157\u001b[0m     def optimize(self, num_vars, objective_function, gradient_function=None,\n\u001b[1;32m    158\u001b[0m                  variable_bounds=None, initial_point=None):\n\u001b[0;32m--> 159\u001b[0;31m         super().optimize(num_vars, objective_function, gradient_function,\n\u001b[0m\u001b[1;32m    160\u001b[0m                          variable_bounds, initial_point)\n\u001b[1;32m    161\u001b[0m \u001b[0;34m\u001b[0m\u001b[0m\n",
      "\u001b[0;31mTypeError\u001b[0m: super(type, obj): obj must be an instance or subtype of type"
     ]
    }
   ],
   "source": [
    "result = AQGD.optimize(1, obj_function, None, None, None)"
   ]
  },
  {
   "cell_type": "code",
   "execution_count": null,
   "metadata": {},
   "outputs": [],
   "source": []
  }
 ],
 "metadata": {
  "kernelspec": {
   "display_name": "Python 3",
   "language": "python",
   "name": "python3"
  },
  "language_info": {
   "codemirror_mode": {
    "name": "ipython",
    "version": 3
   },
   "file_extension": ".py",
   "mimetype": "text/x-python",
   "name": "python",
   "nbconvert_exporter": "python",
   "pygments_lexer": "ipython3",
   "version": "3.7.6"
  }
 },
 "nbformat": 4,
 "nbformat_minor": 4
}
